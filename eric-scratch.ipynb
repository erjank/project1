{
 "cells": [
  {
   "cell_type": "code",
   "execution_count": 1,
   "metadata": {},
   "outputs": [],
   "source": [
    "import numpy\n",
    "import matplotlib.pyplot as plt\n",
    "%matplotlib inline\n",
    "a = numpy.loadtxt('samples/1.raw',skiprows=1,delimiter=',')"
   ]
  },
  {
   "cell_type": "code",
   "execution_count": 3,
   "metadata": {},
   "outputs": [],
   "source": [
    "#Notes for March 24th:\n",
    "# Want to measure how good my linear fits are\n",
    "    #used residuals, stop =4 pretty good\n",
    "# Finish with printing the Young's modulus\n",
    "# formatted nicely - units, decimals"
   ]
  },
  {
   "cell_type": "code",
   "execution_count": 16,
   "metadata": {},
   "outputs": [
    {
     "name": "stdout",
     "output_type": "stream",
     "text": [
      "3528965.4382557385\n"
     ]
    },
    {
     "data": {
      "text/plain": [
       "[<matplotlib.lines.Line2D at 0x7f6689be33d0>]"
      ]
     },
     "execution_count": 16,
     "metadata": {},
     "output_type": "execute_result"
    },
    {
     "data": {
      "image/png": "[encoded data removed]",
      "text/plain": [
       "<Figure size 432x288 with 1 Axes>"
      ]
     },
     "metadata": {
      "needs_background": "light"
     },
     "output_type": "display_data"
    }
   ],
   "source": [
    "# wanna make and plot a line through some or all of this data\n",
    "a = numpy.loadtxt('samples/20.raw',skiprows=1,delimiter=',')\n",
    "stop = 5 # how convert to int? \n",
    "x = a[:stop,0]\n",
    "y = a[:stop,1]\n",
    "a_1, a_0 =  numpy.polyfit(x,y,1)\n",
    "print(a_1) #This is our young's modulus!!\n",
    "fit = numpy.poly1d((a_1,a_0))\n",
    "plt.plot(a[:,0],a[:,1])\n",
    "plt.plot(a[:10,0],fit(a[:10,0]))"
   ]
  },
  {
   "cell_type": "code",
   "execution_count": 9,
   "metadata": {},
   "outputs": [],
   "source": [
    "def get_modulus(fname,stop):\n",
    "    a = numpy.loadtxt(fname,skiprows=1,delimiter=',')\n",
    "    x = a[:stop,0]\n",
    "    y = a[:stop,1]\n",
    "    p =  numpy.polyfit(x,y,1,full=True)\n",
    "    slope = p[0][0]\n",
    "    residual = p[1][0]\n",
    "    return slope, residual\n"
   ]
  },
  {
   "cell_type": "code",
   "execution_count": 20,
   "metadata": {},
   "outputs": [
    {
     "name": "stdout",
     "output_type": "stream",
     "text": [
      "3086001.767732633 1209286.818937551\n"
     ]
    }
   ],
   "source": [
    "moduli = []\n",
    "stop = 4\n",
    "for i in range(1000): #samples\n",
    "    fname = \"samples/\"+str(i)+\".raw\"\n",
    "    moduli.append(get_modulus(fname,stop))\n",
    "moduli = numpy.asarray(moduli)\n",
    "avg = numpy.mean(moduli[:,0])\n",
    "std = numpy.std(moduli[:,0])"
   ]
  },
  {
   "cell_type": "code",
   "execution_count": 25,
   "metadata": {},
   "outputs": [
    {
     "name": "stdout",
     "output_type": "stream",
     "text": [
      "3.09e+06 +/- 1.21e+06 MPa\n"
     ]
    }
   ],
   "source": [
    "print(\"{:.2e} +/- {:.2e} MPa\".format(avg,std))"
   ]
  }
 ],
 "metadata": {
  "anaconda-cloud": {},
  "kernelspec": {
   "display_name": "Python 3",
   "language": "python",
   "name": "python3"
  },
  "language_info": {
   "codemirror_mode": {
    "name": "ipython",
    "version": 3
   },
   "file_extension": ".py",
   "mimetype": "text/x-python",
   "name": "python",
   "nbconvert_exporter": "python",
   "pygments_lexer": "ipython3",
   "version": "3.8.5"
  }
 },
 "nbformat": 4,
 "nbformat_minor": 1
}
